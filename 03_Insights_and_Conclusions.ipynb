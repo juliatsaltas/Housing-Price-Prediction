{
 "cells": [
  {
   "cell_type": "markdown",
   "metadata": {},
   "source": [
    "<img src=\"http://imgur.com/1ZcRyrc.png\" style=\"float: left; margin: 20px; height: 55px\">\n",
    "\n",
    "# Ames Housing Price Prediction Project\n",
    "## Regression Analysis\n",
    "## Part 3: Insights and Conclusions"
   ]
  },
  {
   "cell_type": "markdown",
   "metadata": {},
   "source": [
    "Having a more accurate housing price prediction model is helpful for soon-to-be home buyers and sellers to guage what a house is currently worth on the market prior to bidding or selling a property. More specific analysis would still need to be done by the real estate agent/broker, or others involved in property valuations, to ensure that economic considertions are captured in the final home valuation.\n",
    "\n",
    "Overall, this model showed that multivariate linear regression with some regularization was the strongest model for this housing data application compared to other decision based regression models.  Using the PCA method also greatly improved the test scores and reduced overfitting and allowed more of the collected data to be used rather than dropping features based on similar correlations between features.\n",
    "\n",
    "In this project, **ridge was shown to have the best overall, train and test scores at 93.4% and 92.0%, respecively, with the smallest amount of overfitting compared to lasso and linear regression models.**  Out of the compared models, using the ridge model provide the best estimate for house price based on the provided house features out of the six models investigated."
   ]
  },
  {
   "cell_type": "markdown",
   "metadata": {},
   "source": [
    "### Summary: Compare Model Results"
   ]
  },
  {
   "cell_type": "code",
   "execution_count": 2,
   "metadata": {},
   "outputs": [],
   "source": [
    "import pandas as pd\n",
    "import numpy as np\n",
    "import matplotlib.pyplot as plt\n",
    "from joblib import load, dump"
   ]
  },
  {
   "cell_type": "markdown",
   "metadata": {},
   "source": [
    "### Open Train and Test Data"
   ]
  },
  {
   "cell_type": "code",
   "execution_count": 8,
   "metadata": {},
   "outputs": [],
   "source": [
    "X_train = pd.read_csv('datasets/X_train.csv')"
   ]
  },
  {
   "cell_type": "code",
   "execution_count": 9,
   "metadata": {},
   "outputs": [],
   "source": [
    "X_test = pd.read_csv('datasets/X_test.csv')"
   ]
  },
  {
   "cell_type": "code",
   "execution_count": 10,
   "metadata": {},
   "outputs": [],
   "source": [
    "y_train = pd.read_csv('datasets/y_train.csv')"
   ]
  },
  {
   "cell_type": "code",
   "execution_count": 11,
   "metadata": {},
   "outputs": [],
   "source": [
    "y_test = pd.read_csv('datasets/y_test.csv')"
   ]
  },
  {
   "cell_type": "markdown",
   "metadata": {},
   "source": [
    "### Load Saved Pipelines"
   ]
  },
  {
   "cell_type": "code",
   "execution_count": 4,
   "metadata": {},
   "outputs": [],
   "source": [
    "# Load results from saved pipelines\n",
    "lr_pipe = load('dump_files/lr_w_PCA_pipe.dump')\n",
    "lasso_pipe = load('dump_files/lasso_w_PCA_pipe.dump')\n",
    "ridge_pipe = load('dump_files/ridge_w_PCA_pipe.dump')\n",
    "rf_pipe = load('dump_files/rf_w_PCA_pipe.dump')\n",
    "adab_pipe = load('dump_files/adab_w_PCA_pipe.dump')\n",
    "svr_pipe = load('dump_files/svr_w_PCA_pipe.dump')"
   ]
  },
  {
   "cell_type": "markdown",
   "metadata": {},
   "source": [
    "### Summary"
   ]
  },
  {
   "cell_type": "code",
   "execution_count": 12,
   "metadata": {},
   "outputs": [
    {
     "data": {
      "text/html": [
       "<div>\n",
       "<style scoped>\n",
       "    .dataframe tbody tr th:only-of-type {\n",
       "        vertical-align: middle;\n",
       "    }\n",
       "\n",
       "    .dataframe tbody tr th {\n",
       "        vertical-align: top;\n",
       "    }\n",
       "\n",
       "    .dataframe thead th {\n",
       "        text-align: right;\n",
       "    }\n",
       "</style>\n",
       "<table border=\"1\" class=\"dataframe\">\n",
       "  <thead>\n",
       "    <tr style=\"text-align: right;\">\n",
       "      <th></th>\n",
       "      <th>model</th>\n",
       "      <th>lin_reg</th>\n",
       "      <th>lasso</th>\n",
       "      <th>ridge</th>\n",
       "      <th>random_forest</th>\n",
       "      <th>ada_boost</th>\n",
       "      <th>svr</th>\n",
       "    </tr>\n",
       "  </thead>\n",
       "  <tbody>\n",
       "    <tr>\n",
       "      <th>0</th>\n",
       "      <td>best_score</td>\n",
       "      <td>0.898092</td>\n",
       "      <td>0.900648</td>\n",
       "      <td>0.902431</td>\n",
       "      <td>0.767715</td>\n",
       "      <td>0.788510</td>\n",
       "      <td>0.853473</td>\n",
       "    </tr>\n",
       "    <tr>\n",
       "      <th>1</th>\n",
       "      <td>train_score</td>\n",
       "      <td>0.937433</td>\n",
       "      <td>0.933649</td>\n",
       "      <td>0.933588</td>\n",
       "      <td>0.795951</td>\n",
       "      <td>0.848115</td>\n",
       "      <td>0.914968</td>\n",
       "    </tr>\n",
       "    <tr>\n",
       "      <th>2</th>\n",
       "      <td>test_score</td>\n",
       "      <td>0.910070</td>\n",
       "      <td>0.916146</td>\n",
       "      <td>0.920468</td>\n",
       "      <td>0.800461</td>\n",
       "      <td>0.808245</td>\n",
       "      <td>0.886970</td>\n",
       "    </tr>\n",
       "  </tbody>\n",
       "</table>\n",
       "</div>"
      ],
      "text/plain": [
       "         model   lin_reg     lasso     ridge  random_forest  ada_boost  \\\n",
       "0   best_score  0.898092  0.900648  0.902431       0.767715   0.788510   \n",
       "1  train_score  0.937433  0.933649  0.933588       0.795951   0.848115   \n",
       "2   test_score  0.910070  0.916146  0.920468       0.800461   0.808245   \n",
       "\n",
       "        svr  \n",
       "0  0.853473  \n",
       "1  0.914968  \n",
       "2  0.886970  "
      ]
     },
     "execution_count": 12,
     "metadata": {},
     "output_type": "execute_result"
    }
   ],
   "source": [
    "summary = pd.DataFrame({ 'model' : ['best_score', 'train_score', 'test_score'],\n",
    "    'lin_reg': [lr_pipe.best_score_, lr_pipe.score(X_train,y_train), lr_pipe.score(X_test,y_test)],\n",
    "      'lasso': [lasso_pipe.best_score_, lasso_pipe.score(X_train,y_train), lasso_pipe.score(X_test,y_test)],\n",
    "      'ridge': [ridge_pipe.best_score_, ridge_pipe.score(X_train,y_train), ridge_pipe.score(X_test,y_test)],\n",
    "      'random_forest': [rf_pipe.best_score_, rf_pipe.score(X_train,y_train), rf_pipe.score(X_test,y_test)],\n",
    "      'ada_boost': [adab_pipe.best_score_, adab_pipe.score(X_train,y_train), adab_pipe.score(X_test,y_test)],\n",
    "      'svr': [svr_pipe.best_score_, svr_pipe.score(X_train,y_train), svr_pipe.score(X_test,y_test)]\n",
    "})\n",
    "\n",
    "summary"
   ]
  },
  {
   "cell_type": "code",
   "execution_count": null,
   "metadata": {},
   "outputs": [],
   "source": []
  }
 ],
 "metadata": {
  "kernelspec": {
   "display_name": "Python 3",
   "language": "python",
   "name": "python3"
  },
  "language_info": {
   "codemirror_mode": {
    "name": "ipython",
    "version": 3
   },
   "file_extension": ".py",
   "mimetype": "text/x-python",
   "name": "python",
   "nbconvert_exporter": "python",
   "pygments_lexer": "ipython3",
   "version": "3.8.3"
  }
 },
 "nbformat": 4,
 "nbformat_minor": 4
}
